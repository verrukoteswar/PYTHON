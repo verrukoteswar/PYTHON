{
  "cells": [
    {
      "cell_type": "code",
      "source": [
        "import random\n",
        "import smtplib\n",
        "import time\n",
        "\n",
        "# Function to generate a 6-digit OTP with a time limit\n",
        "def generate_otp():\n",
        "    otp = str(random.randint(100000, 999999))\n",
        "    return otp\n",
        "\n",
        "# Function to send OTP via email\n",
        "def send_otp(sender_email, sender_password, receiver_email, otp):\n",
        "    try:\n",
        "        # Set up the email content\n",
        "        subject = \"Your OTP Code\"\n",
        "        body = f\"Your OTP is: {otp}. It is valid for 5 minutes.\"\n",
        "        message = f\"Subject: {subject}\\n\\n{body}\"\n",
        "\n",
        "        # Send the email via SMTP server\n",
        "        server = smtplib.SMTP('smtp.gmail.com', 587)\n",
        "        server.starttls()\n",
        "        server.login(sender_email, sender_password)\n",
        "        server.sendmail(sender_email, receiver_email, message)\n",
        "        server.quit()\n",
        "        print(\"OTP sent successfully.\")\n",
        "        return True\n",
        "    except Exception as e:\n",
        "        print(\"OTP not sent. MAYBE some issue, please check.\")\n",
        "        return False\n",
        "\n",
        "# Function to prompt user for OTP\n",
        "def prompt_user_for_otp():\n",
        "    return input(\"Enter the OTP received in your email: \")\n",
        "\n",
        "# Function to verify OTP\n",
        "def verify_otp(otp, entered_otp):\n",
        "    return otp == entered_otp\n",
        "\n",
        "def main():\n",
        "    # Get sender's email address and password\n",
        "    sender_email = input(\"Enter your email address: \")\n",
        "    sender_password = input(\"Enter your email password: \")\n",
        "\n",
        "    # Get receiver's email address\n",
        "    receiver_email = input(\"Enter receiver's email address: \")\n",
        "\n",
        "    # Generate OTP\n",
        "    otp = generate_otp()\n",
        "\n",
        "    # Send OTP via email\n",
        "    if send_otp(sender_email, sender_password, receiver_email, otp):\n",
        "        # Prompt user for OTP entry\n",
        "        entered_otp = prompt_user_for_otp()\n",
        "\n",
        "        # Verify OTP\n",
        "        if verify_otp(otp, entered_otp):\n",
        "            print(\"Successfully entered OTP.\")\n",
        "        else:\n",
        "            print(\"Your OTP is wrong, please check properly.\")\n",
        "    else:\n",
        "        print(\"Failed to send OTP. Please try again later.\")\n",
        "\n",
        "if __name__ == \"__main__\":\n",
        "    main()\n"
      ],
      "metadata": {
        "colab": {
          "base_uri": "https://localhost:8080/"
        },
        "id": "IA0u_fZJXIpL",
        "outputId": "cfd14de2-cc7e-47d5-de93-ac88bdfb912a"
      },
      "execution_count": 2,
      "outputs": [
        {
          "output_type": "stream",
          "name": "stdout",
          "text": [
            "Enter your email address: koteswara1797@gmail.com\n",
            "Enter your email password: trnx eafw urmi eqvh\n",
            "Enter receiver's email address: koteswara1797@gmail.com\n",
            "OTP sent successfully.\n",
            "Enter the OTP received in your email: 528099\n",
            "Successfully entered OTP.\n"
          ]
        }
      ]
    },
    {
      "cell_type": "code",
      "source": [],
      "metadata": {
        "id": "0uaFd9FvbyvN"
      },
      "execution_count": null,
      "outputs": []
    }
  ],
  "metadata": {
    "colab": {
      "provenance": []
    },
    "kernelspec": {
      "display_name": "Python 3",
      "name": "python3"
    },
    "language_info": {
      "name": "python"
    }
  },
  "nbformat": 4,
  "nbformat_minor": 0
}